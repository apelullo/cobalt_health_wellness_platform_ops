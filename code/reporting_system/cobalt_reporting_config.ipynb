{
 "cells": [
  {
   "cell_type": "markdown",
   "metadata": {},
   "source": [
    "# Cobalt Reporting Config\n",
    "* Institution-level configuration - modify according to specific institutional and reporting requirements"
   ]
  },
  {
   "cell_type": "markdown",
   "metadata": {},
   "source": [
    "## Platform Institution"
   ]
  },
  {
   "cell_type": "code",
   "execution_count": 1,
   "metadata": {},
   "outputs": [],
   "source": [
    "INSTITUTION_ID = 'PENN'\n",
    "COBALT_START_DATE = '2020/04/09'\n",
    "COBALT_TZ = 'US/Eastern'"
   ]
  },
  {
   "cell_type": "markdown",
   "metadata": {},
   "source": [
    "## Database Connection"
   ]
  },
  {
   "cell_type": "code",
   "execution_count": 2,
   "metadata": {},
   "outputs": [],
   "source": [
    "# Read-only\n",
    "DB_NAME = 'cobalt'\n",
    "DB_USER = 'cobalt_readonly'\n",
    "DB_PASSWORD = 'REDACTED'\n",
    "DB_HOST = 'REDACTED'\n",
    "\n",
    "# Read and write \n",
    "DB_REPORTING_NAME = 'cobalt'\n",
    "DB_REPORTING_USER = 'cobalt_reporting'\n",
    "DB_REPORTING_PASSWORD = 'REDACTED'\n",
    "DB_REPORTING_HOST = 'REDACTED'\n",
    "DB_REPORTING_MONTHLY_NAME = 'reporting_monthly_rollup'\n",
    "DB_REPORTING_WEEKLY_NAME = 'reporting_weekly_rollup'"
   ]
  },
  {
   "cell_type": "markdown",
   "metadata": {},
   "source": [
    "## Save Paths"
   ]
  },
  {
   "cell_type": "code",
   "execution_count": 3,
   "metadata": {},
   "outputs": [],
   "source": [
    "# Main Cobalt project path\n",
    "PROJECT_PATH = '/' # replace as needed\n",
    "\n",
    "# Top level paths\n",
    "CODE_PATH = PROJECT_PATH + 'code/'\n",
    "DATA_PATH = PROJECT_PATH + 'data/'\n",
    "LOGS_PATH = PROJECT_PATH + 'logs/'\n",
    "MODELS_PATH = PROJECT_PATH + 'models/'\n",
    "OUTPUT_PATH = PROJECT_PATH + 'output/'\n",
    "\n",
    "# Code paths\n",
    "REPORTING_SYSTEM_PATH = CODE_PATH + 'reporting_system/'\n",
    "\n",
    "# Data paths\n",
    "RAW_REPORTING_DATA_PATH = DATA_PATH + 'raw_reporting_data/'\n",
    "MASTER_REPORTING_DATA_PATH = DATA_PATH + 'master_reporting_data/'\n",
    "ACCOUNT_INSTANCE_DATA_PATH = DATA_PATH + 'account_instance_data/'\n",
    "SANKEY_DATA_PATH = DATA_PATH + 'sankey_data/'\n",
    "INSTITUTION_DATA_PATH = DATA_PATH + 'institution_data/'\n",
    "COBALT_PLUS_DATA_PATH = DATA_PATH + 'cobalt_plus_data/'\n",
    "GROUP_SESSION_FEEDBACK_DATA_PATH = DATA_PATH + 'group_session_feedback_data/'\n",
    "\n",
    "GROUP_SESSION_FEEDBACK_MASTER_DATA_PATH = GROUP_SESSION_FEEDBACK_DATA_PATH + 'master_data/'\n",
    "GROUP_SESSION_FEEDBACK_SESSIONS_DATA_PATH = GROUP_SESSION_FEEDBACK_DATA_PATH + 'sessions_data/'\n",
    "GROUP_SESSION_FEEDBACK_SESSIONS_META_PATH = GROUP_SESSION_FEEDBACK_DATA_PATH + 'sessions_meta/'\n",
    "\n",
    "# Logs paths\n",
    "BACKEND_ISSUES_LOGS_PATH = LOG_PATH + 'backend_issues_logs/'\n",
    "FRONTEND_ISSUES_LOGS_PATH = LOG_PATH + 'frontend_issues_logs/'\n",
    "DATA_ANOMALIES_LOGS_PATH = LOG_PATH + 'data_anomalies_logs/'\n",
    "GROUP_SESSION_FEEDBACK_LOGS_PATH = LOG_PATH + 'group_sesion_feedback_logs/'\n",
    "\n",
    "# Models paths\n",
    "MALLET_PATH = '/Users/arthurpelullo/mallet-2.0.8/bin/mallet'\n",
    "GROUP_SESSION_FEEDBACK_MODELS_PATH = MODELS_PATH + 'group_session_feedback_models/'\n",
    "\n",
    "# Output paths\n",
    "REPORTING_SYSTEM_OUTPUT_PATH = OUTPUT_PATH + 'reporting_system_output/'\n",
    "CRITICAL_ANALYTICS_OUTPUT_PATH = OUTPUT_PATH + 'critical_analytics_output/'\n",
    "COBALT_PLUS_OUTPUT_PATH = OUTPUT_PATH + 'cobalt_plus_output/'\n",
    "GROUP_SESSION_FEEDBACK_OUTPUT_PATH = OUTPUT_PATH + 'group_session_feedback_output/'\n",
    "\n",
    "REPORTING_SYSTEM_CHART_PATH = REPORTING_SYSTEM_OUTPUT_PATH + 'charts/'\n",
    "REPORTING_SYSTEM_FIGURE_PATH = REPORTING_SYSTEM_OUTPUT_PATH + 'figures/'\n",
    "\n",
    "GROUP_SESSION_FEEDBACK_CHART_PATH = GROUP_SESSION_FEEDBACK_OUTPUT_PATH + 'charts/'\n",
    "GROUP_SESSION_FEEDBACK_FIGURE_PATH = GROUP_SESSION_FEEDBACK_OUTPUT_PATH + 'figures/'\n",
    "GROUP_SESSION_FEEDBACK_CLOUD_PATH = GROUP_SESSION_FEEDBACK_OUTPUT_PATH + 'clouds/'\n",
    "GROUP_SESSION_FEEDBACK_PANEL_PATH = GROUP_SESSION_FEEDBACK_OUTPUT_PATH + 'panels/'\n",
    "GROUP_SESSION_FEEDBACK_TOPIC_PATH = GROUP_SESSION_FEEDBACK_OUTPUT_PATH + 'topics/'"
   ]
  },
  {
   "cell_type": "markdown",
   "metadata": {},
   "source": [
    "## Custom Data Filtering"
   ]
  },
  {
   "cell_type": "code",
   "execution_count": 4,
   "metadata": {},
   "outputs": [],
   "source": [
    "ACCOUNT_EXCLUDE_LIST = ['REDACTED','REDACTED']\n",
    "ACTIVE_PROV_COUNT = 25"
   ]
  },
  {
   "cell_type": "code",
   "execution_count": 5,
   "metadata": {},
   "outputs": [],
   "source": [
    "CUSTOM_FILTERS = {'account':{},\n",
    "                  'provider':{},}"
   ]
  },
  {
   "cell_type": "code",
   "execution_count": null,
   "metadata": {},
   "outputs": [],
   "source": []
  },
  {
   "cell_type": "code",
   "execution_count": null,
   "metadata": {},
   "outputs": [],
   "source": []
  },
  {
   "cell_type": "code",
   "execution_count": null,
   "metadata": {},
   "outputs": [],
   "source": []
  },
  {
   "cell_type": "code",
   "execution_count": null,
   "metadata": {},
   "outputs": [],
   "source": []
  }
 ],
 "metadata": {
  "kernelspec": {
   "display_name": "Python [conda env:base] *",
   "language": "python",
   "name": "conda-base-py"
  },
  "language_info": {
   "codemirror_mode": {
    "name": "ipython",
    "version": 3
   },
   "file_extension": ".py",
   "mimetype": "text/x-python",
   "name": "python",
   "nbconvert_exporter": "python",
   "pygments_lexer": "ipython3",
   "version": "3.11.8"
  }
 },
 "nbformat": 4,
 "nbformat_minor": 4
}
